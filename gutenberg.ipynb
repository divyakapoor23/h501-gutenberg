{
 "cells": [
  {
   "cell_type": "code",
   "execution_count": 5,
   "id": "890812ac",
   "metadata": {},
   "outputs": [
    {
     "name": "stdout",
     "output_type": "stream",
     "text": [
      "\n",
      "# conda environments:\n",
      "#\n",
      "base                   /opt/anaconda3\n",
      "h501-gutenberg       * /opt/anaconda3/envs/h501-gutenberg\n",
      "                       /opt/homebrew/Caskroom/miniconda/base\n",
      "\n"
     ]
    }
   ],
   "source": [
    "!conda env list"
   ]
  },
  {
   "cell_type": "code",
   "execution_count": 6,
   "id": "fd7246fe",
   "metadata": {},
   "outputs": [],
   "source": [
    "import pandas as pd\n",
    "import numpy as np\n",
    "import matplotlib.pyplot as plt\n",
    "import seaborn as sns"
   ]
  },
  {
   "cell_type": "code",
   "execution_count": null,
   "id": "b574fd06",
   "metadata": {},
   "outputs": [],
   "source": [
    "# Import the package module (avoid star-import so reload works reliably)\n",
    "import tt_gutenberg.authors as authors_mod"
   ]
  },
  {
   "cell_type": "code",
   "execution_count": 4,
   "id": "9bec5654",
   "metadata": {},
   "outputs": [],
   "source": [
    "gutenberg_authors = pd.read_csv('https://raw.githubusercontent.com/rfordatascience/tidytuesday/main/data/2025/2025-06-03/gutenberg_authors.csv')\n",
    "gutenberg_languages = pd.read_csv('https://raw.githubusercontent.com/rfordatascience/tidytuesday/main/data/2025/2025-06-03/gutenberg_languages.csv')\n",
    "gutenberg_metadata = pd.read_csv('https://raw.githubusercontent.com/rfordatascience/tidytuesday/main/data/2025/2025-06-03/gutenberg_metadata.csv')\n",
    "gutenberg_subjects = pd.read_csv('https://raw.githubusercontent.com/rfordatascience/tidytuesday/main/data/2025/2025-06-03/gutenberg_subjects.csv')\n"
   ]
  },
  {
   "cell_type": "code",
   "execution_count": null,
   "id": "e17956ba",
   "metadata": {},
   "outputs": [
    {
     "ename": "AttributeError",
     "evalue": "module 'tt_gutenberg.authors' has no attribute 'get_author_translation_stats'",
     "output_type": "error",
     "traceback": [
      "\u001b[31m---------------------------------------------------------------------------\u001b[39m",
      "\u001b[31mAttributeError\u001b[39m                            Traceback (most recent call last)",
      "\u001b[36mCell\u001b[39m\u001b[36m \u001b[39m\u001b[32mIn[26]\u001b[39m\u001b[32m, line 6\u001b[39m\n\u001b[32m      4\u001b[39m \u001b[38;5;28;01mimport\u001b[39;00m\u001b[38;5;250m \u001b[39m\u001b[34;01mseaborn\u001b[39;00m\u001b[38;5;250m \u001b[39m\u001b[38;5;28;01mas\u001b[39;00m\u001b[38;5;250m \u001b[39m\u001b[34;01msns\u001b[39;00m\n\u001b[32m      5\u001b[39m \u001b[38;5;66;03m# This delegates the heavy lifting to tt_gutenberg.authors.get_author_translation_stats\u001b[39;00m\n\u001b[32m----> \u001b[39m\u001b[32m6\u001b[39m df = \u001b[43mauthors_mod\u001b[49m\u001b[43m.\u001b[49m\u001b[43mget_author_translation_stats\u001b[49m(metadata=gutenberg_metadata, authors=gutenberg_authors, languages=gutenberg_languages)\n\u001b[32m      7\u001b[39m \u001b[38;5;66;03m# Ensure columns we need are present\u001b[39;00m\n\u001b[32m      8\u001b[39m \u001b[38;5;28;01mif\u001b[39;00m \u001b[33m'\u001b[39m\u001b[33mbirth_century\u001b[39m\u001b[33m'\u001b[39m \u001b[38;5;129;01mnot\u001b[39;00m \u001b[38;5;129;01min\u001b[39;00m df.columns \u001b[38;5;129;01mor\u001b[39;00m \u001b[33m'\u001b[39m\u001b[33mtrans_count\u001b[39m\u001b[33m'\u001b[39m \u001b[38;5;129;01mnot\u001b[39;00m \u001b[38;5;129;01min\u001b[39;00m df.columns:\n",
      "\u001b[31mAttributeError\u001b[39m: module 'tt_gutenberg.authors' has no attribute 'get_author_translation_stats'"
     ]
    }
   ],
   "source": [
    "# Use the authors module helper to get author-level translation stats\n",
    "import importlib\n",
    "import pandas as pd\n",
    "import matplotlib.pyplot as plt\n",
    "import seaborn as sns\n",
    "# Ensure the latest authors_mod is loaded (so new helper functions are available)\n",
    "importlib.reload(authors_mod)\n",
    "# This delegates the heavy lifting to tt_gutenberg.authors.get_author_translation_stats\n",
    "df = authors_mod.get_author_translation_stats(metadata=gutenberg_metadata, authors=gutenberg_authors, languages=gutenberg_languages)\n",
    "# Ensure columns we need are present\n",
    "if 'birth_century' not in df.columns or 'trans_count' not in df.columns:\n",
    "    raise RuntimeError('Required columns missing from translation stats')\n",
    "df = df.dropna(subset=['birth_century'])\n",
    "df['trans_count'] = pd.to_numeric(df['trans_count'], errors='coerce').fillna(0)\n",
    "order = sorted(df['birth_century'].unique())\n",
    "plt.figure(figsize=(12,6))\n",
    "sns.barplot(data=df, x='birth_century', y='trans_count', order=order, estimator=lambda x: x.mean(), ci=95, color='C0')\n",
    "plt.xlabel('Birth century')\n",
    "plt.ylabel('Average number of languages (per author)')\n",
    "plt.title('Average number of languages per author by birth century (95% CI)')\n",
    "plt.xticks(rotation=45)\n",
    "plt.tight_layout()\n",
    "plt.show()\n",
    "agg = df.groupby('birth_century')['trans_count'].agg(['mean','count','std']).reset_index().sort_values('birth_century')\n",
    "agg"
   ]
  },
  {
   "cell_type": "code",
   "execution_count": 25,
   "id": "41ad622e",
   "metadata": {},
   "outputs": [
    {
     "name": "stdout",
     "output_type": "stream",
     "text": [
      "Successfully loaded gutenberg_authors dataset.\n",
      "Successfully loaded gutenberg_languages dataset.\n",
      "Successfully loaded gutenberg_languages dataset.\n",
      "Successfully loaded gutenberg_metadata dataset.\n",
      "Successfully loaded gutenberg_metadata dataset.\n",
      "Successfully loaded gutenberg_subjects dataset.\n",
      "Successfully loaded gutenberg_subjects dataset.\n",
      "total aliases: 12360\n",
      "total aliases: 12360\n"
     ]
    }
   ],
   "source": [
    "# Reload the authors module and display top aliases in a nice table\n",
    "import importlib\n",
    "import pandas as pd\n",
    "importlib.reload(authors_mod)\n",
    "# Get aliases (list of strings) and convert to DataFrame with counts\n",
    "aliases = authors_mod.list_authors(by_languages=True, alias=True)\n",
    "df_aliases = pd.DataFrame({'alias': aliases}) if aliases else pd.DataFrame(columns=['alias'])\n",
    "# Count duplicates just in case and show a rank (aliases should already be ordered by translation count)\n",
    "df_aliases['count'] = df_aliases.groupby('alias')['alias'].transform('count')\n",
    "df_aliases = df_aliases.drop_duplicates().reset_index(drop=True)\n",
    "# Show top 50 aliases. If you want more, change the number below\n",
    "df_aliases.head(50)\n",
    "# Optionally display length\n",
    "print('total aliases:', len(df_aliases))"
   ]
  },
  {
   "cell_type": "code",
   "execution_count": null,
   "id": "ec4c20df",
   "metadata": {},
   "outputs": [],
   "source": []
  },
  {
   "cell_type": "code",
   "execution_count": null,
   "id": "019a13f5",
   "metadata": {},
   "outputs": [],
   "source": []
  }
 ],
 "metadata": {
  "kernelspec": {
   "display_name": "h501-gutenberg",
   "language": "python",
   "name": "python3"
  },
  "language_info": {
   "codemirror_mode": {
    "name": "ipython",
    "version": 3
   },
   "file_extension": ".py",
   "mimetype": "text/x-python",
   "name": "python",
   "nbconvert_exporter": "python",
   "pygments_lexer": "ipython3",
   "version": "3.12.4"
  }
 },
 "nbformat": 4,
 "nbformat_minor": 5
}
